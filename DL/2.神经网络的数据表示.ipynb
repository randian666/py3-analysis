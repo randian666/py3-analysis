{
 "cells": [
  {
   "attachments": {},
   "cell_type": "markdown",
   "metadata": {},
   "source": [
    "#### 张量\n",
    "> 张量是所有机器学习系统的基本数据结构，它是一个数据容器。张量的维度通常叫坐轴(axis)，张量轴的个数也叫作阶（rank）。"
   ]
  },
  {
   "cell_type": "code",
   "execution_count": 2,
   "metadata": {},
   "outputs": [
    {
     "name": "stdout",
     "output_type": "stream",
     "text": [
      "100\n",
      "0\n"
     ]
    }
   ],
   "source": [
    "#标量-0阶张量，仅包含一个数字的张量叫作标量（scalar）\n",
    "import numpy as np\n",
    "x=np.array(100)\n",
    "print(x)\n",
    "print(x.ndim)"
   ]
  },
  {
   "cell_type": "code",
   "execution_count": 3,
   "metadata": {},
   "outputs": [
    {
     "name": "stdout",
     "output_type": "stream",
     "text": [
      "[1 2 3 4 6]\n",
      "1\n"
     ]
    }
   ],
   "source": [
    "#向量-1阶张量,数字组成的数组叫作向量（vector）\n",
    "x=np.array([1,2,3,4,6])\n",
    "print(x)\n",
    "print(x.ndim)"
   ]
  },
  {
   "cell_type": "code",
   "execution_count": 4,
   "metadata": {},
   "outputs": [
    {
     "name": "stdout",
     "output_type": "stream",
     "text": [
      "[[1 2 3 4 6]\n",
      " [4 5 6 7 8]]\n",
      "2\n"
     ]
    }
   ],
   "source": [
    "#矩阵-2阶张量，向量组成的数组叫作矩阵（matrix）\n",
    "x=np.array([[1,2,3,4,6],\n",
    "            [4,5,6,7,8]])\n",
    "print(x)\n",
    "print(x.ndim)"
   ]
  },
  {
   "cell_type": "code",
   "execution_count": 5,
   "metadata": {},
   "outputs": [
    {
     "data": {
      "text/plain": [
       "3"
      ]
     },
     "execution_count": 5,
     "metadata": {},
     "output_type": "execute_result"
    }
   ],
   "source": [
    "#3阶张量与更高阶的张量,将多个矩阵打包成一个新的数组，就可以得到一个3阶张量（或称为3维张量）,将3阶张量打包成一个数组就是4阶张量一次类推。\n",
    "x = np.array([    [[5, 78, 2, 34, 0],\n",
    "                   [6, 79, 3, 35, 1],\n",
    "                   [7, 80, 4, 36, 2]],\n",
    "                  [[5, 78, 2, 34, 0],\n",
    "                   [6, 79, 3, 35, 1],\n",
    "                   [7, 80, 4, 36, 2]],\n",
    "                  [[5, 78, 2, 34, 0],\n",
    "                   [6, 79, 3, 35, 1],\n",
    "                   [7, 80, 4, 36, 2]]])\n",
    "x.ndim"
   ]
  },
  {
   "attachments": {},
   "cell_type": "markdown",
   "metadata": {},
   "source": [
    "#### 张量的关键属性"
   ]
  },
  {
   "cell_type": "code",
   "execution_count": 6,
   "metadata": {},
   "outputs": [
    {
     "name": "stdout",
     "output_type": "stream",
     "text": [
      "3\n",
      "(60000, 28, 28)\n",
      "uint8\n"
     ]
    }
   ],
   "source": [
    "from tensorflow.keras.datasets import mnist\n",
    "\n",
    "#train_images是一个由8位整数组成的3阶张量。它是由60 000个矩阵组成的数组，每个矩阵由28×28个整数组成。每个这样的矩阵都是一张灰度图像，元素取值在0和255之间\n",
    "(train_images, train_labels), (test_images, test_labels) = mnist.load_data()\n",
    "\n",
    "#轴的个数(阶数)\n",
    "print(train_images.ndim)\n",
    "#形状\n",
    "print(train_images.shape)\n",
    "#类型\n",
    "print(train_images.dtype)"
   ]
  },
  {
   "cell_type": "code",
   "execution_count": 9,
   "metadata": {},
   "outputs": [
    {
     "data": {
      "image/png": "[encoded data removed]",
      "text/plain": [
       "<Figure size 432x288 with 1 Axes>"
      ]
     },
     "metadata": {
      "needs_background": "light"
     },
     "output_type": "display_data"
    }
   ],
   "source": [
    "#显示第四个数字\n",
    "import matplotlib.pyplot as plt\n",
    "digit = train_images[4]\n",
    "plt.imshow(digit, cmap=plt.cm.binary)\n",
    "plt.show()"
   ]
  },
  {
   "cell_type": "code",
   "execution_count": 10,
   "metadata": {},
   "outputs": [
    {
     "data": {
      "text/plain": [
       "9"
      ]
     },
     "execution_count": 10,
     "metadata": {},
     "output_type": "execute_result"
    }
   ],
   "source": [
    "train_labels[4]"
   ]
  },
  {
   "attachments": {},
   "cell_type": "markdown",
   "metadata": {},
   "source": [
    "#### 张量切片"
   ]
  },
  {
   "cell_type": "code",
   "execution_count": 11,
   "metadata": {},
   "outputs": [
    {
     "data": {
      "text/plain": [
       "(90, 28, 28)"
      ]
     },
     "execution_count": 11,
     "metadata": {},
     "output_type": "execute_result"
    }
   ],
   "source": [
    "#张量切片，选择第10-100个数字不包含第100个。\n",
    "train_slice=train_images[10:100]\n",
    "train_slice.shape"
   ]
  },
  {
   "cell_type": "code",
   "execution_count": 12,
   "metadata": {},
   "outputs": [
    {
     "data": {
      "text/plain": [
       "(90, 28, 28)"
      ]
     },
     "execution_count": 12,
     "metadata": {},
     "output_type": "execute_result"
    }
   ],
   "source": [
    "#同上\n",
    "train_slice=train_images[10:100,:,:]\n",
    "train_slice.shape"
   ]
  },
  {
   "cell_type": "code",
   "execution_count": 13,
   "metadata": {},
   "outputs": [
    {
     "data": {
      "text/plain": [
       "(90, 28, 28)"
      ]
     },
     "execution_count": 13,
     "metadata": {},
     "output_type": "execute_result"
    }
   ],
   "source": [
    "#同上\n",
    "train_slice=train_images[10:100,:28,:28]\n",
    "train_slice.shape"
   ]
  },
  {
   "cell_type": "code",
   "execution_count": 16,
   "metadata": {},
   "outputs": [
    {
     "data": {
      "text/plain": [
       "(60000, 14, 14)"
      ]
     },
     "execution_count": 16,
     "metadata": {},
     "output_type": "execute_result"
    }
   ],
   "source": [
    "#从图像的右下角选出14像素 * 14像素的区域\n",
    "train_slice=train_images[:,14:,14:]\n",
    "train_slice.shape"
   ]
  },
  {
   "cell_type": "code",
   "execution_count": 17,
   "metadata": {},
   "outputs": [
    {
     "data": {
      "text/plain": [
       "(60000, 14, 14)"
      ]
     },
     "execution_count": 17,
     "metadata": {},
     "output_type": "execute_result"
    }
   ],
   "source": [
    "#同上，也可以使用负索引\n",
    "train_slice=train_images[:,7:-7,7:-7]\n",
    "train_slice.shape"
   ]
  },
  {
   "cell_type": "code",
   "execution_count": 19,
   "metadata": {},
   "outputs": [
    {
     "data": {
      "text/plain": [
       "(128, 28, 28)"
      ]
     },
     "execution_count": 19,
     "metadata": {},
     "output_type": "execute_result"
    }
   ],
   "source": [
    "#批量处理，批量大小为128，有点类似分页。\n",
    "n = 3\n",
    "batch = train_images[128 * n:128 * (n + 1)]\n",
    "batch.shape"
   ]
  },
  {
   "attachments": {},
   "cell_type": "markdown",
   "metadata": {},
   "source": [
    "#### 张量运算\n",
    "> 计算机程序最终都可以简化为对二进制输入的运算（AND、OR、NOR等），深度神经网络的所有变换也可以简化为对数值数据张量运算（张量加法、张量乘法）。"
   ]
  },
  {
   "cell_type": "code",
   "execution_count": 21,
   "metadata": {},
   "outputs": [],
   "source": [
    "#手写数字分类例子中的Dense层 layers.Dense(512, activation=\"relu\") ，可以理解为一个函数，输入一个矩阵返回另外一个矩阵\n",
    "#新表示等于output = relu(dot(input, W) + b),点积运算(dot),relu(x)就是max(x, 0)\n",
    "\n",
    "#逐元素relu运算\n",
    "def naive_relu(x):\n",
    "    assert len(x.shape) == 2  \n",
    "    x = x.copy()  \n",
    "    for i in range(x.shape[0]):\n",
    "        for j in range(x.shape[1]):\n",
    "            x[i, j] = max(x[i, j], 0)\n",
    "    return x\n",
    "\n",
    "\n",
    "#逐元素张量加法运算\n",
    "def naive_add(x, y):\n",
    "    assert len(x.shape) == 2 \n",
    "    assert x.shape == y.shape\n",
    "    x = x.copy() \n",
    "    for i in range(x.shape[0]):\n",
    "        for j in range(x.shape[1]):\n",
    "            x[i, j] += y[i, j]\n",
    "    return x\n"
   ]
  },
  {
   "cell_type": "code",
   "execution_count": 23,
   "metadata": {},
   "outputs": [
    {
     "name": "stdout",
     "output_type": "stream",
     "text": [
      "Numpy内置函数，Took: 0.01 s\n",
      "自定义函数，Took: 2.39 s\n"
     ]
    }
   ],
   "source": [
    "import time\n",
    "\n",
    "x = np.random.random((20, 100))\n",
    "y = np.random.random((20, 100))\n",
    "\n",
    "#可以使用Numpy内置函数直接进行逐元素计算，速度非常快\n",
    "t0 = time.time()\n",
    "for _ in range(1000):\n",
    "    z = x + y\n",
    "    z = np.maximum(z, 0.)\n",
    "print(\"Numpy内置函数，Took: {0:.2f} s\".format(time.time() - t0))\n",
    "\n",
    "t0 = time.time()\n",
    "for _ in range(1000):\n",
    "    z = naive_add(x, y)\n",
    "    z = naive_relu(z)\n",
    "print(\"自定义函数，Took: {0:.2f} s\".format(time.time() - t0))"
   ]
  },
  {
   "cell_type": "code",
   "execution_count": 25,
   "metadata": {},
   "outputs": [
    {
     "data": {
      "text/plain": [
       "(64, 3, 32, 10)"
      ]
     },
     "execution_count": 25,
     "metadata": {},
     "output_type": "execute_result"
    }
   ],
   "source": [
    "#广播，2阶张量与一个向量运算，较小的张量会被广播\n",
    "x = np.random.random((64, 3, 32, 10)) # x是一个形状为(64, 3, 32, 10)的随机张量\n",
    "y = np.random.random((32, 10))  # y是一个形状为(32, 10)的随机张量\n",
    "z = np.maximum(x, y)  #输出z的形状为(64, 3, 32, 10)，与x相同\n",
    "z.shape"
   ]
  },
  {
   "cell_type": "code",
   "execution_count": 33,
   "metadata": {},
   "outputs": [
    {
     "name": "stdout",
     "output_type": "stream",
     "text": [
      "10.007641592795157\n"
     ]
    }
   ],
   "source": [
    "#张量点积运算(dot),数学符号中的点（•）表示点积运算。\n",
    "\n",
    "#两个向量的点积是一个标量\n",
    "x = np.random.random((32,))\n",
    "y = np.random.random((32,))\n",
    "z = np.dot(x, y)\n",
    "print(z)"
   ]
  },
  {
   "cell_type": "code",
   "execution_count": 35,
   "metadata": {},
   "outputs": [
    {
     "name": "stdout",
     "output_type": "stream",
     "text": [
      "[8.66304988 8.95061503 9.69167203]\n"
     ]
    }
   ],
   "source": [
    "#一个矩阵和一个向量点积运算。返回值是一个向量\n",
    "x = np.random.random((3, 32))\n",
    "y = np.random.random((32,))\n",
    "z = np.dot(x, y)\n",
    "print(z)"
   ]
  },
  {
   "cell_type": "code",
   "execution_count": 37,
   "metadata": {},
   "outputs": [
    {
     "name": "stdout",
     "output_type": "stream",
     "text": [
      "[[0.19323267 0.14687725 0.15068107]\n",
      " [0.38395678 0.32128341 0.40041208]\n",
      " [0.55728594 0.19895482 0.66490868]]\n"
     ]
    }
   ],
   "source": [
    "#矩阵x和矩阵y的点积，仅当x.shape[1]==y.shape[0],才可以计算他们的点积。点积的结果形状为(x.shape[0],y.shape[1])\n",
    "x = np.random.random((3, 3))\n",
    "y = np.random.random((3, 3))\n",
    "z = np.dot(x, y)\n",
    "print(z)"
   ]
  },
  {
   "cell_type": "code",
   "execution_count": 39,
   "metadata": {},
   "outputs": [
    {
     "name": "stdout",
     "output_type": "stream",
     "text": [
      "(3, 3)\n",
      "(9, 1)\n",
      "[[0.94517213]\n",
      " [0.43176674]\n",
      " [0.64655291]\n",
      " [0.69730205]\n",
      " [0.80569054]\n",
      " [0.95255859]\n",
      " [0.50873799]\n",
      " [0.4425225 ]\n",
      " [0.51470789]]\n"
     ]
    }
   ],
   "source": [
    "#张量变形\n",
    "x = np.random.random((3, 3))\n",
    "print(x.shape)\n",
    "y=x.reshape((9,1))\n",
    "print(y.shape)\n",
    "print(y)"
   ]
  },
  {
   "cell_type": "code",
   "execution_count": 40,
   "metadata": {},
   "outputs": [
    {
     "name": "stdout",
     "output_type": "stream",
     "text": [
      "(300, 20)\n",
      "(20, 300)\n"
     ]
    }
   ],
   "source": [
    "#张量转置，行和列进行互换\n",
    "x=np.zeros((300,20))\n",
    "print(x.shape)\n",
    "y=np.transpose(x)\n",
    "print(y.shape)"
   ]
  }
 ],
 "metadata": {
  "kernelspec": {
   "display_name": "base",
   "language": "python",
   "name": "python3"
  },
  "language_info": {
   "codemirror_mode": {
    "name": "ipython",
    "version": 3
   },
   "file_extension": ".py",
   "mimetype": "text/x-python",
   "name": "python",
   "nbconvert_exporter": "python",
   "pygments_lexer": "ipython3",
   "version": "3.8.5"
  },
  "orig_nbformat": 4,
  "vscode": {
   "interpreter": {
    "hash": "61df5942b7b0242e76337a89f6adf9064839c863323d0519cd2ba8ddb538740d"
   }
  }
 },
 "nbformat": 4,
 "nbformat_minor": 2
}
