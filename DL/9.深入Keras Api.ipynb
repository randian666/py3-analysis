{
 "cells": [
  {
   "cell_type": "code",
   "execution_count": 28,
   "metadata": {},
   "outputs": [
    {
     "data": {
      "text/plain": [
       "'\\nKeras标准工作流程：compile()、fit()、evaluate()、predict()\\n'"
      ]
     },
     "execution_count": 28,
     "metadata": {},
     "output_type": "execute_result"
    }
   ],
   "source": [
    "'''\n",
    "Keras标准工作流程：compile()、fit()、evaluate()、predict()\n",
    "'''"
   ]
  },
  {
   "cell_type": "code",
   "execution_count": 29,
   "metadata": {},
   "outputs": [],
   "source": [
    "from tensorflow.keras.datasets import mnist\n",
    "from tensorflow import keras\n",
    "from tensorflow.keras import layers"
   ]
  },
  {
   "cell_type": "code",
   "execution_count": 30,
   "metadata": {},
   "outputs": [],
   "source": [
    " #使用函数式Api创建模型（我们将其包装为一个单独的函数，以便后续复用）\n",
    "def get_mnist_model(): \n",
    "    inputs = keras.Input(shape=(28 * 28,))\n",
    "    features = layers.Dense(512, activation=\"relu\")(inputs)\n",
    "    #Dropout正则化，在训练过程中随机舍弃该层的一些输出特征（将其设为0），提高模型的泛化能力\n",
    "    features = layers.Dropout(0.5)(features)\n",
    "    outputs = layers.Dense(10, activation=\"softmax\")(features)\n",
    "    model = keras.Model(inputs, outputs)\n",
    "    return model"
   ]
  },
  {
   "cell_type": "code",
   "execution_count": 31,
   "metadata": {},
   "outputs": [],
   "source": [
    "#加载数据，保留一部分数据用于验证\n",
    "(images, labels), (test_images, test_labels) = mnist.load_data()  \n",
    "images = images.reshape((60000, 28 * 28)).astype(\"float32\") / 255\n",
    "test_images = test_images.reshape((10000, 28 * 28)).astype(\"float32\") / 255\n",
    "train_images, val_images = images[10000:], images[:10000]\n",
    "train_labels, val_labels = labels[10000:], labels[:10000]"
   ]
  },
  {
   "cell_type": "code",
   "execution_count": 32,
   "metadata": {},
   "outputs": [
    {
     "name": "stdout",
     "output_type": "stream",
     "text": [
      "Model: \"functional_5\"\n",
      "_________________________________________________________________\n",
      "Layer (type)                 Output Shape              Param #   \n",
      "=================================================================\n",
      "input_3 (InputLayer)         [(None, 784)]             0         \n",
      "_________________________________________________________________\n",
      "dense_4 (Dense)              (None, 512)               401920    \n",
      "_________________________________________________________________\n",
      "dropout_2 (Dropout)          (None, 512)               0         \n",
      "_________________________________________________________________\n",
      "dense_5 (Dense)              (None, 10)                5130      \n",
      "=================================================================\n",
      "Total params: 407,050\n",
      "Trainable params: 407,050\n",
      "Non-trainable params: 0\n",
      "_________________________________________________________________\n"
     ]
    }
   ],
   "source": [
    "#实例化模型\n",
    "model = get_mnist_model()\n",
    " #编译模型，指定模型的优化器、需要最小化的损失函数和需要监控的指标\n",
    "model.compile(optimizer=\"rmsprop\", \n",
    "              loss=\"sparse_categorical_crossentropy\",\n",
    "              metrics=[\"accuracy\"])\n",
    "#summary()方法显示模型内容,对调试模型很有帮助\n",
    "model.summary()"
   ]
  },
  {
   "cell_type": "code",
   "execution_count": 33,
   "metadata": {},
   "outputs": [
    {
     "name": "stdout",
     "output_type": "stream",
     "text": [
      "Epoch 1/20\n",
      "   1/1563 [..............................] - ETA: 0s - loss: 2.3527 - accuracy: 0.0938WARNING:tensorflow:From /Users/xun/app/anaconda3/lib/python3.8/site-packages/tensorflow/python/ops/summary_ops_v2.py:1277: stop (from tensorflow.python.eager.profiler) is deprecated and will be removed after 2020-07-01.\n",
      "Instructions for updating:\n",
      "use `tf.profiler.experimental.stop` instead.\n",
      "   2/1563 [..............................] - ETA: 1:54 - loss: 2.2312 - accuracy: 0.1406WARNING:tensorflow:Callbacks method `on_train_batch_end` is slow compared to the batch time (batch time: 0.0092s vs `on_train_batch_end` time: 0.1344s). Check your callbacks.\n",
      "1563/1563 [==============================] - 13s 8ms/step - loss: 0.2942 - accuracy: 0.9135 - val_loss: 0.1483 - val_accuracy: 0.9581\n",
      "Epoch 2/20\n",
      "1563/1563 [==============================] - 11s 7ms/step - loss: 0.1629 - accuracy: 0.9544 - val_loss: 0.1178 - val_accuracy: 0.9683\n",
      "Epoch 3/20\n",
      "1563/1563 [==============================] - 8s 5ms/step - loss: 0.1385 - accuracy: 0.9622 - val_loss: 0.1198 - val_accuracy: 0.9683\n",
      "Epoch 4/20\n",
      "1563/1563 [==============================] - 10s 7ms/step - loss: 0.1246 - accuracy: 0.9691 - val_loss: 0.1140 - val_accuracy: 0.9721\n",
      "Epoch 5/20\n",
      "1563/1563 [==============================] - 8s 5ms/step - loss: 0.1150 - accuracy: 0.9705 - val_loss: 0.1173 - val_accuracy: 0.9749\n",
      "Epoch 6/20\n",
      "1563/1563 [==============================] - 8s 5ms/step - loss: 0.1065 - accuracy: 0.9734 - val_loss: 0.1080 - val_accuracy: 0.9756\n",
      "Epoch 7/20\n",
      "1563/1563 [==============================] - 9s 6ms/step - loss: 0.1006 - accuracy: 0.9751 - val_loss: 0.1111 - val_accuracy: 0.9762\n",
      "Epoch 8/20\n",
      "1563/1563 [==============================] - 10s 6ms/step - loss: 0.1000 - accuracy: 0.9765 - val_loss: 0.1207 - val_accuracy: 0.9767\n",
      "Epoch 9/20\n",
      "1563/1563 [==============================] - 9s 5ms/step - loss: 0.0953 - accuracy: 0.9787 - val_loss: 0.1130 - val_accuracy: 0.9787\n",
      "Epoch 10/20\n",
      "1563/1563 [==============================] - 10s 7ms/step - loss: 0.0951 - accuracy: 0.9785 - val_loss: 0.1133 - val_accuracy: 0.9782\n",
      "Epoch 11/20\n",
      "1563/1563 [==============================] - 8s 5ms/step - loss: 0.0884 - accuracy: 0.9795 - val_loss: 0.1119 - val_accuracy: 0.9788\n",
      "Epoch 12/20\n",
      "1563/1563 [==============================] - 7s 5ms/step - loss: 0.0870 - accuracy: 0.9810 - val_loss: 0.1255 - val_accuracy: 0.9788\n",
      "Epoch 13/20\n",
      "1563/1563 [==============================] - 8s 5ms/step - loss: 0.0853 - accuracy: 0.9815 - val_loss: 0.1255 - val_accuracy: 0.9784\n"
     ]
    }
   ],
   "source": [
    "#通过fit()的callbacks参数将回调函数传入模型中，该参数接收一个回调函数列表\n",
    "callbacks_list =[\n",
    "    #val_accuracy：监控模型精度；如果精度在两轮内都不在改善，则中断训练\n",
    "    keras.callbacks.EarlyStopping(monitor=\"val_accuracy\",patience=2),\n",
    "    #TensorBoard:在训练过程中以可视化方式监控指标；将模型架构可视化；将激活函数和梯度的直方图可视化\n",
    "    #然后访问命令执行返回的URL：tensorboard --logdir ./tensorboard_log\n",
    "    keras.callbacks.TensorBoard(log_dir=\"/Users/xun/data/tensorboard_log\")\n",
    "]\n",
    "# 使用fit()训练模型，可以选择提供验证数据来监控模型在前所未见的数据上的性能\n",
    "history=model.fit(train_images, train_labels,  \n",
    "          epochs=20,\n",
    "          callbacks=callbacks_list,\n",
    "          validation_data=(val_images, val_labels))"
   ]
  },
  {
   "cell_type": "code",
   "execution_count": 34,
   "metadata": {},
   "outputs": [],
   "source": [
    "#保存模型、加载模型\n",
    "# model.save('my_checkpoint_path')\n",
    "#model = keras.models.load_model(\"checkpoint_path.keras\")"
   ]
  },
  {
   "cell_type": "code",
   "execution_count": 35,
   "metadata": {},
   "outputs": [
    {
     "data": {
      "image/png": "[encoded data removed]",
      "text/plain": [
       "<Figure size 432x288 with 1 Axes>"
      ]
     },
     "metadata": {
      "needs_background": "light"
     },
     "output_type": "display_data"
    }
   ],
   "source": [
    "#绘制训练损失和验证损失\n",
    "import matplotlib.pyplot as plt\n",
    "history_dict = history.history\n",
    "loss_values = history_dict[\"loss\"]\n",
    "val_loss_values = history_dict[\"val_loss\"]\n",
    "epochs = range(1, len(loss_values) + 1)\n",
    "plt.plot(epochs, loss_values, \"bo\", label=\"Training loss\")  # \"bo\"表示“蓝色圆点”\n",
    "plt.plot(epochs, val_loss_values, \"b\", label=\"Validation loss\")  # \"b\"表示“蓝色实线”\n",
    "plt.title(\"Training and validation loss\")\n",
    "plt.xlabel(\"Epochs\")\n",
    "plt.ylabel(\"Loss\")\n",
    "plt.legend()\n",
    "plt.show()"
   ]
  },
  {
   "cell_type": "code",
   "execution_count": 36,
   "metadata": {},
   "outputs": [
    {
     "data": {
      "image/png": "[encoded data removed]",
      "text/plain": [
       "<Figure size 432x288 with 1 Axes>"
      ]
     },
     "metadata": {
      "needs_background": "light"
     },
     "output_type": "display_data"
    }
   ],
   "source": [
    "plt.clf()  #清空图像\n",
    "acc = history_dict[\"accuracy\"]\n",
    "val_acc = history_dict[\"val_accuracy\"]\n",
    "plt.plot(epochs, acc, \"bo\", label=\"Training acc\")\n",
    "plt.plot(epochs, val_acc, \"b\", label=\"Validation acc\")\n",
    "plt.title(\"Training and validation accuracy\")\n",
    "plt.xlabel(\"Epochs\")\n",
    "plt.ylabel(\"Accuracy\")\n",
    "plt.legend()\n",
    "plt.show()"
   ]
  },
  {
   "cell_type": "code",
   "execution_count": 37,
   "metadata": {},
   "outputs": [
    {
     "name": "stdout",
     "output_type": "stream",
     "text": [
      "313/313 [==============================] - 1s 3ms/step - loss: 0.1117 - accuracy: 0.9802\n"
     ]
    }
   ],
   "source": [
    "#使用evaluate()计算模型在新数据上的损失和指标\n",
    "test_metrics = model.evaluate(test_images, test_labels)  "
   ]
  },
  {
   "cell_type": "code",
   "execution_count": 38,
   "metadata": {},
   "outputs": [
    {
     "name": "stdout",
     "output_type": "stream",
     "text": [
      "7 7\n"
     ]
    }
   ],
   "source": [
    " #使用predict()计算模型在新数据上的分类概率\n",
    "predictions = model.predict(test_images) \n",
    "print(predictions[0].argmax(),test_labels[0])"
   ]
  }
 ],
 "metadata": {
  "kernelspec": {
   "display_name": "base",
   "language": "python",
   "name": "python3"
  },
  "language_info": {
   "codemirror_mode": {
    "name": "ipython",
    "version": 3
   },
   "file_extension": ".py",
   "mimetype": "text/x-python",
   "name": "python",
   "nbconvert_exporter": "python",
   "pygments_lexer": "ipython3",
   "version": "3.8.5"
  },
  "orig_nbformat": 4,
  "vscode": {
   "interpreter": {
    "hash": "61df5942b7b0242e76337a89f6adf9064839c863323d0519cd2ba8ddb538740d"
   }
  }
 },
 "nbformat": 4,
 "nbformat_minor": 2
}
