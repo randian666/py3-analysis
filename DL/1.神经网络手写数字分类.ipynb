{
 "cells": [
  {
   "attachments": {},
   "cell_type": "markdown",
   "metadata": {},
   "source": [
    "#### 加载Keras中的MNIST数据集"
   ]
  },
  {
   "cell_type": "code",
   "execution_count": 1,
   "metadata": {},
   "outputs": [],
   "source": [
    "from tensorflow.keras.datasets import mnist\n",
    "(train_images, train_labels), (test_images, test_labels) = mnist.load_data()"
   ]
  },
  {
   "cell_type": "code",
   "execution_count": 2,
   "metadata": {},
   "outputs": [
    {
     "name": "stdout",
     "output_type": "stream",
     "text": [
      "(60000, 28, 28)\n",
      "(10000, 28, 28)\n"
     ]
    }
   ],
   "source": [
    "print(train_images.shape)\n",
    "print(test_images.shape)"
   ]
  },
  {
   "cell_type": "code",
   "execution_count": 3,
   "metadata": {},
   "outputs": [
    {
     "data": {
      "text/plain": [
       "array([5, 0, 4, ..., 5, 6, 8], dtype=uint8)"
      ]
     },
     "execution_count": 3,
     "metadata": {},
     "output_type": "execute_result"
    }
   ],
   "source": [
    "train_labels"
   ]
  },
  {
   "cell_type": "code",
   "execution_count": 8,
   "metadata": {},
   "outputs": [
    {
     "data": {
      "image/png": "[encoded data removed]",
      "text/plain": [
       "<Figure size 432x288 with 6 Axes>"
      ]
     },
     "metadata": {},
     "output_type": "display_data"
    }
   ],
   "source": [
    "import matplotlib.pyplot as plt\n",
    "import matplotlib\n",
    "import os\n",
    "import numpy as np\n",
    "\n",
    "plt.rcParams['font.sans-serif']=['SimHei'] #用来正常显示中文标签\n",
    "plt.rcParams['axes.unicode_minus']=False #用来正常显示负号\n",
    "plt.rcParams['text.color'] = 'white'\n",
    "\n",
    "fig = plt.figure()#生成图框\n",
    "for i,c in enumerate(np.random.randint(0,1000,6)):#随机取0，1000里的6张图片\n",
    "    plt.subplot(2,3,i+1) #i+1表示当前图片摆放位置，位置从1开始（故i要加1）\n",
    "    plt.tight_layout()#自动调整间距\n",
    "    plt.imshow(train_images[c], interpolation='none')#加灰度\n",
    "    plt.title(\"标签: {}\".format(train_labels[c]))\n",
    "    plt.xticks([])#x轴坐标设为空\n",
    "    plt.yticks([])#y轴坐标设为空\n",
    "plt.show()"
   ]
  },
  {
   "attachments": {},
   "cell_type": "markdown",
   "metadata": {},
   "source": [
    "#### 构建神经网络\n",
    ">神经网络的核心组件就是层(layer)。相当于是过滤器，进去一些数据，出来的数据变得更加有用。大多数深度学习工作涉及将简单的层链接起来，从而实现渐进式的数据蒸馏。深度学习模型就是处理数据筛子，包含了一系列越来越精细的数据过滤器（layer）。\n"
   ]
  },
  {
   "cell_type": "code",
   "execution_count": 9,
   "metadata": {},
   "outputs": [],
   "source": [
    "from tensorflow import keras\n",
    "from tensorflow.keras import layers\n",
    "model = keras.Sequential([\n",
    "    layers.Dense(512, activation=\"relu\"),\n",
    "    #返回一个由10个概率值（总和为1）组成的数组。每个概率值表示当前图像属于10个数字类别中某一个的概率。\n",
    "    layers.Dense(10, activation=\"softmax\") \n",
    "])"
   ]
  },
  {
   "attachments": {},
   "cell_type": "markdown",
   "metadata": {},
   "source": [
    ">执行编译步骤的3个参数\n",
    "- 优化器（optimizer）：基于训练数据自我更新的机制，目的是提高模型的性能。\n",
    "- 损失函数（loss function）：模型如何衡量在训练数据上的性能，从而引导自己朝正确的方向前进。\n",
    "- 监控指标（metric）: 训练和测试过程中需要监控的指标\n"
   ]
  },
  {
   "cell_type": "code",
   "execution_count": 10,
   "metadata": {},
   "outputs": [],
   "source": [
    "model.compile(optimizer=\"rmsprop\",\n",
    "              loss=\"sparse_categorical_crossentropy\",\n",
    "              metrics=[\"accuracy\"])"
   ]
  },
  {
   "attachments": {},
   "cell_type": "markdown",
   "metadata": {},
   "source": [
    "> 图像数据预处理，将其变成模型要求的形状，并缩放所有值都在[0-1]之间。"
   ]
  },
  {
   "cell_type": "code",
   "execution_count": 11,
   "metadata": {},
   "outputs": [],
   "source": [
    "train_images = train_images.reshape((60000, 28 * 28))\n",
    "train_images = train_images.astype(\"float32\") / 255\n",
    "test_images = test_images.reshape((10000, 28 * 28))\n",
    "test_images = test_images.astype(\"float32\") / 255"
   ]
  },
  {
   "cell_type": "code",
   "execution_count": 12,
   "metadata": {},
   "outputs": [
    {
     "data": {
      "text/plain": [
       "(60000, 784)"
      ]
     },
     "execution_count": 12,
     "metadata": {},
     "output_type": "execute_result"
    }
   ],
   "source": [
    "train_images.shape"
   ]
  },
  {
   "attachments": {},
   "cell_type": "markdown",
   "metadata": {},
   "source": [
    "> 拟合模型，通过调用模型的fit方法来完成。"
   ]
  },
  {
   "cell_type": "code",
   "execution_count": 13,
   "metadata": {},
   "outputs": [
    {
     "name": "stdout",
     "output_type": "stream",
     "text": [
      "Epoch 1/5\n",
      "469/469 [==============================] - 4s 8ms/step - loss: 0.2570 - accuracy: 0.9245\n",
      "Epoch 2/5\n",
      "469/469 [==============================] - 3s 5ms/step - loss: 0.1052 - accuracy: 0.9693\n",
      "Epoch 3/5\n",
      "469/469 [==============================] - 2s 5ms/step - loss: 0.0696 - accuracy: 0.9791\n",
      "Epoch 4/5\n",
      "469/469 [==============================] - 3s 6ms/step - loss: 0.0501 - accuracy: 0.9847\n",
      "Epoch 5/5\n",
      "469/469 [==============================] - 3s 6ms/step - loss: 0.0375 - accuracy: 0.9888\n"
     ]
    },
    {
     "data": {
      "text/plain": [
       "<tensorflow.python.keras.callbacks.History at 0x7fb06c10a2e0>"
      ]
     },
     "execution_count": 13,
     "metadata": {},
     "output_type": "execute_result"
    }
   ],
   "source": [
    "model.fit(train_images,train_labels,epochs=5,batch_size=128)"
   ]
  },
  {
   "attachments": {},
   "cell_type": "markdown",
   "metadata": {},
   "source": [
    "> 利用模型进行预测"
   ]
  },
  {
   "cell_type": "code",
   "execution_count": 15,
   "metadata": {},
   "outputs": [
    {
     "name": "stdout",
     "output_type": "stream",
     "text": [
      "[[1.37098777e-08 5.34534882e-11 1.15194425e-05 2.58910412e-04\n",
      "  1.86768765e-12 1.51868676e-07 9.13204449e-14 9.99726355e-01\n",
      "  1.05890464e-07 3.05104186e-06]]\n",
      "7\n",
      "0.99972636\n",
      "7\n"
     ]
    }
   ],
   "source": [
    "#获取一个待预测的图片\n",
    "test_digits=test_images[0:1]\n",
    "#预测\n",
    "predict_res=model.predict(test_digits)\n",
    "#预测结果，当前图片对应数字图像类别i的概率\n",
    "print(predict_res)\n",
    "#获取概率最大的索引\n",
    "print(predict_res[0].argmax())\n",
    "#概率值为\n",
    "print(predict_res[0][7])\n",
    "#检查预测图片对应的测试标签是否一致\n",
    "print(test_labels[0])"
   ]
  },
  {
   "attachments": {},
   "cell_type": "markdown",
   "metadata": {},
   "source": [
    "> 评估模型"
   ]
  },
  {
   "cell_type": "code",
   "execution_count": 17,
   "metadata": {},
   "outputs": [
    {
     "name": "stdout",
     "output_type": "stream",
     "text": [
      "313/313 [==============================] - 1s 2ms/step - loss: 0.0616 - accuracy: 0.9821\n",
      "test_acc: 0.9821000099182129\n"
     ]
    }
   ],
   "source": [
    "test_loss, test_acc = model.evaluate(test_images, test_labels)\n",
    "print(f\"test_acc: {test_acc}\")\n"
   ]
  }
 ],
 "metadata": {
  "kernelspec": {
   "display_name": "base",
   "language": "python",
   "name": "python3"
  },
  "language_info": {
   "codemirror_mode": {
    "name": "ipython",
    "version": 3
   },
   "file_extension": ".py",
   "mimetype": "text/x-python",
   "name": "python",
   "nbconvert_exporter": "python",
   "pygments_lexer": "ipython3",
   "version": "3.8.5 (default, Sep  4 2020, 02:22:02) \n[Clang 10.0.0 ]"
  },
  "orig_nbformat": 4,
  "vscode": {
   "interpreter": {
    "hash": "61df5942b7b0242e76337a89f6adf9064839c863323d0519cd2ba8ddb538740d"
   }
  }
 },
 "nbformat": 4,
 "nbformat_minor": 2
}
