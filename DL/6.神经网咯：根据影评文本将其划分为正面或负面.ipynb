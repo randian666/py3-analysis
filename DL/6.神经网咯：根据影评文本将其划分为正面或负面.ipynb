{
 "cells": [
  {
   "cell_type": "code",
   "execution_count": 44,
   "metadata": {},
   "outputs": [
    {
     "name": "stderr",
     "output_type": "stream",
     "text": [
      "<__array_function__ internals>:5: VisibleDeprecationWarning: Creating an ndarray from ragged nested sequences (which is a list-or-tuple of lists-or-tuples-or ndarrays with different lengths or shapes) is deprecated. If you meant to do this, you must specify 'dtype=object' when creating the ndarray\n",
      "/Users/xun/app/anaconda3/lib/python3.8/site-packages/tensorflow/python/keras/datasets/imdb.py:159: VisibleDeprecationWarning: Creating an ndarray from ragged nested sequences (which is a list-or-tuple of lists-or-tuples-or ndarrays with different lengths or shapes) is deprecated. If you meant to do this, you must specify 'dtype=object' when creating the ndarray\n",
      "  x_train, y_train = np.array(xs[:idx]), np.array(labels[:idx])\n",
      "/Users/xun/app/anaconda3/lib/python3.8/site-packages/tensorflow/python/keras/datasets/imdb.py:160: VisibleDeprecationWarning: Creating an ndarray from ragged nested sequences (which is a list-or-tuple of lists-or-tuples-or ndarrays with different lengths or shapes) is deprecated. If you meant to do this, you must specify 'dtype=object' when creating the ndarray\n",
      "  x_test, y_test = np.array(xs[idx:]), np.array(labels[idx:])\n"
     ]
    }
   ],
   "source": [
    "'''\n",
    "IMDB数据集，它包含来自互联网电影数据库（IMDB）的50 000条严重两极化的评论。数据集被分为25 000条用于训练的评论与25 000条用于测试的评论，训练集和测试集都包含50%的正面评论与50%的负面评论。\n",
    "它已经过预处理：评论（单词序列）已被转换为整数序列，其中每个整数对应字典中的某个单词。这样一来，我们就可以专注于模型的构建、训练与评估。\n",
    "'''\n",
    "from tensorflow.keras.datasets import imdb\n",
    "(train_data, train_labels), (test_data, test_labels) = imdb.load_data(num_words=10000)"
   ]
  },
  {
   "cell_type": "code",
   "execution_count": 45,
   "metadata": {},
   "outputs": [
    {
     "name": "stdout",
     "output_type": "stream",
     "text": [
      "(25000,) (25000,)\n"
     ]
    }
   ],
   "source": [
    "print(train_data.shape,test_data.shape)"
   ]
  },
  {
   "cell_type": "code",
   "execution_count": 46,
   "metadata": {},
   "outputs": [
    {
     "data": {
      "text/plain": [
       "array([list([1, 14, 22, 16, 43, 530, 973, 1622, 1385, 65, 458, 4468, 66, 3941, 4, 173, 36, 256, 5, 25, 100, 43, 838, 112, 50, 670, 2, 9, 35, 480, 284, 5, 150, 4, 172, 112, 167, 2, 336, 385, 39, 4, 172, 4536, 1111, 17, 546, 38, 13, 447, 4, 192, 50, 16, 6, 147, 2025, 19, 14, 22, 4, 1920, 4613, 469, 4, 22, 71, 87, 12, 16, 43, 530, 38, 76, 15, 13, 1247, 4, 22, 17, 515, 17, 12, 16, 626, 18, 2, 5, 62, 386, 12, 8, 316, 8, 106, 5, 4, 2223, 5244, 16, 480, 66, 3785, 33, 4, 130, 12, 16, 38, 619, 5, 25, 124, 51, 36, 135, 48, 25, 1415, 33, 6, 22, 12, 215, 28, 77, 52, 5, 14, 407, 16, 82, 2, 8, 4, 107, 117, 5952, 15, 256, 4, 2, 7, 3766, 5, 723, 36, 71, 43, 530, 476, 26, 400, 317, 46, 7, 4, 2, 1029, 13, 104, 88, 4, 381, 15, 297, 98, 32, 2071, 56, 26, 141, 6, 194, 7486, 18, 4, 226, 22, 21, 134, 476, 26, 480, 5, 144, 30, 5535, 18, 51, 36, 28, 224, 92, 25, 104, 4, 226, 65, 16, 38, 1334, 88, 12, 16, 283, 5, 16, 4472, 113, 103, 32, 15, 16, 5345, 19, 178, 32])],\n",
       "      dtype=object)"
      ]
     },
     "execution_count": 46,
     "metadata": {},
     "output_type": "execute_result"
    }
   ],
   "source": [
    "train_data[0:1]"
   ]
  },
  {
   "cell_type": "code",
   "execution_count": 47,
   "metadata": {},
   "outputs": [
    {
     "data": {
      "text/plain": [
       "9999"
      ]
     },
     "execution_count": 47,
     "metadata": {},
     "output_type": "execute_result"
    }
   ],
   "source": [
    "max([max(sequence) for sequence in train_data])"
   ]
  },
  {
   "cell_type": "code",
   "execution_count": 48,
   "metadata": {},
   "outputs": [
    {
     "data": {
      "text/plain": [
       "\"? this film was just brilliant casting location scenery story direction everyone's really suited the part they played and you could just imagine being there robert ? is an amazing actor and now the same being director ? father came from the same scottish island as myself so i loved the fact there was a real connection with this film the witty remarks throughout the film were great it was just brilliant so much that i bought the film as soon as it was released for ? and would recommend it to everyone to watch and the fly fishing was amazing really cried at the end it was so sad and you know what they say if you cry at a film it must have been good and this definitely was also ? to the two little boy's that played the ? of norman and paul they were just brilliant children are often left out of the ? list i think because the stars that play them all grown up are such a big profile for the whole film but these children are amazing and should be praised for what they have done don't you think the whole story was so lovely because it was true and was someone's life after all that was shared with us all\""
      ]
     },
     "execution_count": 48,
     "metadata": {},
     "output_type": "execute_result"
    }
   ],
   "source": [
    "#将评论解码为文本\n",
    "word_index=imdb.get_word_index()\n",
    "reverse_word_index=dict([(value,key) for (key,value) in word_index.items()])\n",
    "decoded_review=' '.join([reverse_word_index.get(i -3,\"?\") for i in train_data[0]])\n",
    "decoded_review"
   ]
  },
  {
   "cell_type": "code",
   "execution_count": 49,
   "metadata": {},
   "outputs": [],
   "source": [
    "#用multi-hot编码对整数序列进行编码\n",
    "import numpy as np\n",
    "def vectorize_sequences(sequences, dimension=10000):\n",
    "    results = np.zeros((len(sequences), dimension))  #创建一个形状为(len(sequences), dimension)的零矩阵\n",
    "    for i, sequence in enumerate(sequences):\n",
    "        for j in sequence:\n",
    "            results[i, j] = 1.  #将results[i]某些索引对应的值设为1\n",
    "    return results\n",
    "x_train = vectorize_sequences(train_data)  ##将训练数据向量化\n",
    "x_test = vectorize_sequences(test_data)  #将测试数据向量化"
   ]
  },
  {
   "cell_type": "code",
   "execution_count": 50,
   "metadata": {},
   "outputs": [
    {
     "data": {
      "text/plain": [
       "(25000, 10000)"
      ]
     },
     "execution_count": 50,
     "metadata": {},
     "output_type": "execute_result"
    }
   ],
   "source": [
    "x_train.shape"
   ]
  },
  {
   "cell_type": "code",
   "execution_count": 51,
   "metadata": {},
   "outputs": [
    {
     "data": {
      "text/plain": [
       "array([1., 0., 0., ..., 0., 1., 0.], dtype=float32)"
      ]
     },
     "execution_count": 51,
     "metadata": {},
     "output_type": "execute_result"
    }
   ],
   "source": [
    "y_train = np.asarray(train_labels).astype(\"float32\")\n",
    "y_test = np.asarray(test_labels).astype(\"float32\")\n",
    "y_train"
   ]
  },
  {
   "cell_type": "code",
   "execution_count": 52,
   "metadata": {},
   "outputs": [],
   "source": [
    "from tensorflow import keras\n",
    "from tensorflow.keras import layers\n",
    "\n",
    "#模型定义\n",
    "model=keras.Sequential([\n",
    "    layers.Dense(16,activation=\"relu\"), #带有relu激活函数的Dense层张量运算：output = relu(dot(input, W) + b)\n",
    "    layers.Dense(16,activation=\"relu\"),\n",
    "    layers.Dense(1,activation=\"sigmoid\")\n",
    "])"
   ]
  },
  {
   "cell_type": "code",
   "execution_count": 53,
   "metadata": {},
   "outputs": [],
   "source": [
    "#编译模型-rmsprop优化器和binary_crossentropy损失函数来配置模型\n",
    "model.compile(optimizer=\"rmsprop\",\n",
    "              loss=\"binary_crossentropy\",\n",
    "              metrics=[\"accuracy\"])"
   ]
  },
  {
   "cell_type": "code",
   "execution_count": 54,
   "metadata": {},
   "outputs": [],
   "source": [
    "#训练集、验证集\n",
    "x_val = x_train[:10000]\n",
    "partial_x_train = x_train[10000:]\n",
    "y_val = y_train[:10000]\n",
    "partial_y_train = y_train[10000:]"
   ]
  },
  {
   "cell_type": "code",
   "execution_count": 55,
   "metadata": {},
   "outputs": [
    {
     "name": "stdout",
     "output_type": "stream",
     "text": [
      "Epoch 1/20\n",
      "30/30 [==============================] - 2s 66ms/step - loss: 0.5082 - accuracy: 0.8011 - val_loss: 0.3927 - val_accuracy: 0.8669\n",
      "Epoch 2/20\n",
      "30/30 [==============================] - 1s 22ms/step - loss: 0.3132 - accuracy: 0.9003 - val_loss: 0.3100 - val_accuracy: 0.8861\n",
      "Epoch 3/20\n",
      "30/30 [==============================] - 1s 21ms/step - loss: 0.2286 - accuracy: 0.9257 - val_loss: 0.2805 - val_accuracy: 0.8899\n",
      "Epoch 4/20\n",
      "30/30 [==============================] - 1s 22ms/step - loss: 0.1811 - accuracy: 0.9414 - val_loss: 0.2749 - val_accuracy: 0.8919\n",
      "Epoch 5/20\n",
      "30/30 [==============================] - 1s 19ms/step - loss: 0.1458 - accuracy: 0.9539 - val_loss: 0.2773 - val_accuracy: 0.8898\n",
      "Epoch 6/20\n",
      "30/30 [==============================] - 1s 19ms/step - loss: 0.1203 - accuracy: 0.9633 - val_loss: 0.3224 - val_accuracy: 0.8778\n",
      "Epoch 7/20\n",
      "30/30 [==============================] - 1s 21ms/step - loss: 0.1008 - accuracy: 0.9701 - val_loss: 0.3075 - val_accuracy: 0.8822\n",
      "Epoch 8/20\n",
      "30/30 [==============================] - 1s 23ms/step - loss: 0.0847 - accuracy: 0.9766 - val_loss: 0.3267 - val_accuracy: 0.8837\n",
      "Epoch 9/20\n",
      "30/30 [==============================] - 1s 24ms/step - loss: 0.0701 - accuracy: 0.9801 - val_loss: 0.3610 - val_accuracy: 0.8767\n",
      "Epoch 10/20\n",
      "30/30 [==============================] - 1s 24ms/step - loss: 0.0579 - accuracy: 0.9860 - val_loss: 0.3733 - val_accuracy: 0.8767\n",
      "Epoch 11/20\n",
      "30/30 [==============================] - 1s 20ms/step - loss: 0.0471 - accuracy: 0.9892 - val_loss: 0.3979 - val_accuracy: 0.8774\n",
      "Epoch 12/20\n",
      "30/30 [==============================] - 1s 21ms/step - loss: 0.0383 - accuracy: 0.9922 - val_loss: 0.4575 - val_accuracy: 0.8706\n",
      "Epoch 13/20\n",
      "30/30 [==============================] - 1s 21ms/step - loss: 0.0281 - accuracy: 0.9949 - val_loss: 0.4605 - val_accuracy: 0.8743\n",
      "Epoch 14/20\n",
      "30/30 [==============================] - 1s 23ms/step - loss: 0.0248 - accuracy: 0.9954 - val_loss: 0.5142 - val_accuracy: 0.8713\n",
      "Epoch 15/20\n",
      "30/30 [==============================] - 1s 19ms/step - loss: 0.0205 - accuracy: 0.9961 - val_loss: 0.5258 - val_accuracy: 0.8698\n",
      "Epoch 16/20\n",
      "30/30 [==============================] - 1s 19ms/step - loss: 0.0168 - accuracy: 0.9975 - val_loss: 0.5532 - val_accuracy: 0.8702\n",
      "Epoch 17/20\n",
      "30/30 [==============================] - 1s 23ms/step - loss: 0.0092 - accuracy: 0.9995 - val_loss: 0.6238 - val_accuracy: 0.8579\n",
      "Epoch 18/20\n",
      "30/30 [==============================] - 1s 25ms/step - loss: 0.0127 - accuracy: 0.9977 - val_loss: 0.6274 - val_accuracy: 0.8673\n",
      "Epoch 19/20\n",
      "30/30 [==============================] - 1s 20ms/step - loss: 0.0052 - accuracy: 0.9998 - val_loss: 0.6587 - val_accuracy: 0.8677\n",
      "Epoch 20/20\n",
      "30/30 [==============================] - 1s 19ms/step - loss: 0.0078 - accuracy: 0.9987 - val_loss: 0.6978 - val_accuracy: 0.8678\n"
     ]
    }
   ],
   "source": [
    "#训练模型-使用由512个样本组成的小批量，对模型训练20轮，即对训练数据的所有样本进行20次迭代。\n",
    "history = model.fit(partial_x_train,\n",
    "                    partial_y_train,\n",
    "                    epochs=20,\n",
    "                    batch_size=512,\n",
    "                    validation_data=(x_val, y_val))"
   ]
  },
  {
   "cell_type": "code",
   "execution_count": 56,
   "metadata": {},
   "outputs": [
    {
     "data": {
      "image/png": "[encoded data removed]",
      "text/plain": [
       "<Figure size 432x288 with 1 Axes>"
      ]
     },
     "metadata": {
      "needs_background": "light"
     },
     "output_type": "display_data"
    }
   ],
   "source": [
    "#绘制训练损失和验证损失\n",
    "import matplotlib.pyplot as plt\n",
    "history_dict = history.history\n",
    "loss_values = history_dict[\"loss\"]\n",
    "val_loss_values = history_dict[\"val_loss\"]\n",
    "epochs = range(1, len(loss_values) + 1)\n",
    "plt.plot(epochs, loss_values, \"bo\", label=\"Training loss\")  # \"bo\"表示“蓝色圆点”\n",
    "plt.plot(epochs, val_loss_values, \"b\", label=\"Validation loss\")  # \"b\"表示“蓝色实线”\n",
    "plt.title(\"Training and validation loss\")\n",
    "plt.xlabel(\"Epochs\")\n",
    "plt.ylabel(\"Loss\")\n",
    "plt.legend()\n",
    "plt.show()"
   ]
  },
  {
   "cell_type": "code",
   "execution_count": 57,
   "metadata": {},
   "outputs": [
    {
     "data": {
      "image/png": "[encoded data removed]",
      "text/plain": [
       "<Figure size 432x288 with 1 Axes>"
      ]
     },
     "metadata": {
      "needs_background": "light"
     },
     "output_type": "display_data"
    }
   ],
   "source": [
    "plt.clf()  #清空图像\n",
    "acc = history_dict[\"accuracy\"]\n",
    "val_acc = history_dict[\"val_accuracy\"]\n",
    "plt.plot(epochs, acc, \"bo\", label=\"Training acc\")\n",
    "plt.plot(epochs, val_acc, \"b\", label=\"Validation acc\")\n",
    "plt.title(\"Training and validation accuracy\")\n",
    "plt.xlabel(\"Epochs\")\n",
    "plt.ylabel(\"Accuracy\")\n",
    "plt.legend()\n",
    "plt.show()"
   ]
  },
  {
   "attachments": {},
   "cell_type": "markdown",
   "metadata": {},
   "source": [
    "> 训练损失每轮都在减小，训练精度每轮都在提高。这正是梯度下降优化的预期结果——我们想要最小化的量随着每次迭代变得越来越小。但验证损失和验证精度并非如此，它们似乎在第4轮达到峰值。这正是我之前警告过的一种情况：模型在训练数据上的表现越来越好，但在前所未见的数据上不一定表现得越来越好。准确地说，这种现象叫作过拟合（overfit）：在第4轮之后，你对训练数据过度优化，最终学到的表示仅针对于训练数据，无法泛化到训练集之外的数据。\n",
    "\n",
    ">优化方案：\n",
    "* 可以尝试使用一个或三个表示层，然后观察这么做对验证精度和测试精度的影响。\n",
    "* 尝试使用更多或更少的单元，比如32个或64个。\n",
    "* 尝试使用mse损失函数代替binary_crossentropy。\n",
    "* 尝试使用tanh激活函数（这种激活函数在神经网络早期非常流行）代替relu。"
   ]
  },
  {
   "cell_type": "code",
   "execution_count": 59,
   "metadata": {},
   "outputs": [
    {
     "data": {
      "text/plain": [
       "array([[0.00526142],\n",
       "       [1.        ],\n",
       "       [0.45768264],\n",
       "       ...,\n",
       "       [0.00202808],\n",
       "       [0.02440223],\n",
       "       [0.73044676]], dtype=float32)"
      ]
     },
     "execution_count": 59,
     "metadata": {},
     "output_type": "execute_result"
    }
   ],
   "source": [
    "#预测数据\n",
    "model.predict(x_test)"
   ]
  }
 ],
 "metadata": {
  "kernelspec": {
   "display_name": "base",
   "language": "python",
   "name": "python3"
  },
  "language_info": {
   "codemirror_mode": {
    "name": "ipython",
    "version": 3
   },
   "file_extension": ".py",
   "mimetype": "text/x-python",
   "name": "python",
   "nbconvert_exporter": "python",
   "pygments_lexer": "ipython3",
   "version": "3.8.5"
  },
  "orig_nbformat": 4,
  "vscode": {
   "interpreter": {
    "hash": "61df5942b7b0242e76337a89f6adf9064839c863323d0519cd2ba8ddb538740d"
   }
  }
 },
 "nbformat": 4,
 "nbformat_minor": 2
}
