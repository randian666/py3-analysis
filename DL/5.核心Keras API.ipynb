{
 "cells": [
  {
   "attachments": {},
   "cell_type": "markdown",
   "metadata": {},
   "source": [
    "> 神经网络的基本数据结构是层,层是一个数据处理模块，它接收一个或多个张量作为输入，并输出一个或多个张量。有些层是无状态的，但大多数层具有状态，即层的权重。权重是利用随机梯度下降学到的一个或多个张量不同类型的层适用于不同的张量格式和不同类型的数据处理。例如，\n",
    " * 简单的向量数据存储在形状为(samples, features)的2阶张量中，通常用密集连接层［densely connected layer，也叫全连接层（fully connected layer）或密集层（dense layer），对应于Keras的Dense类］来处理。\n",
    " * 序列数据存储在形状为(samples, timesteps, features)的3阶张量中，通常用循环层（recurrent layer）来处理，比如LSTM层或一维卷积层（Conv1D）。\n",
    " * 图像数据存储在4阶张量中，通常用二维卷积层（Conv2D）来处理。"
   ]
  },
  {
   "cell_type": "code",
   "execution_count": 2,
   "metadata": {},
   "outputs": [],
   "source": [
    "#自动推断形状：动态构建层,在使用Keras时，往往不必担心尺寸兼容性问题，因为添加到模型中的层是动态构建的，以匹配输入层的形状\n",
    "from tensorflow.keras import models\n",
    "from tensorflow.keras import layers\n",
    "model = models.Sequential([\n",
    "    layers.Dense(32, activation=\"relu\"),\n",
    "    layers.Dense(32)\n",
    "])"
   ]
  },
  {
   "attachments": {},
   "cell_type": "markdown",
   "metadata": {},
   "source": [
    "> TensorFlow是业界领先的数值计算框架，它可以在CPU、GPU或TPU上运行。它既可以自动计算任意可微表达式的梯度，也可以分布到许多设备上，还可以将程序导出到各种外部运行环境，甚至是JavaScript运行时。Keras是用TensorFlow进行深度学习的标准API。\n",
    "\n",
    "* TensorFlow的关键对象包括张量、变量、张量运算和梯度带。\n",
    "* Keras的核心类是Layer。层封装了一些权重和一些计算，并构成了模型。\n",
    "* 在开始训练模型之前，需要选择优化器、损失函数和指标，你可以通过model.compile()方法指定这3个参数。\n",
    "* 要训练模型，可以通过使用fit()方法来运行小批量梯度下降。你也可以用它来监控模型在验证数据上的损失和指标。\n",
    "* 验证数据是模型在训练期间看不到的一组输入。训练好模型后，可以使用model.predict()方法对新的输入进行预测。"
   ]
  }
 ],
 "metadata": {
  "kernelspec": {
   "display_name": "base",
   "language": "python",
   "name": "python3"
  },
  "language_info": {
   "codemirror_mode": {
    "name": "ipython",
    "version": 3
   },
   "file_extension": ".py",
   "mimetype": "text/x-python",
   "name": "python",
   "nbconvert_exporter": "python",
   "pygments_lexer": "ipython3",
   "version": "3.8.5"
  },
  "orig_nbformat": 4,
  "vscode": {
   "interpreter": {
    "hash": "61df5942b7b0242e76337a89f6adf9064839c863323d0519cd2ba8ddb538740d"
   }
  }
 },
 "nbformat": 4,
 "nbformat_minor": 2
}
