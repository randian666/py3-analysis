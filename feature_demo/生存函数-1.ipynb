{
 "cells": [
  {
   "cell_type": "code",
   "execution_count": 1,
   "metadata": {},
   "outputs": [],
   "source": [
    "from lifelines.plotting import plot_lifetimes\n",
    "import numpy as np\n",
    "from numpy.random import uniform, exponential"
   ]
  },
  {
   "cell_type": "code",
   "execution_count": null,
   "metadata": {},
   "outputs": [],
   "source": [
    "# 一个常见的错误是人们可能在评估目标群体存活时间时会简单的忽略右侧截断\n",
    "# 考虑一种情况，其中人口实际上由两个亚群组成， 𝐴 和 𝐵。人口𝐴 寿命非常短，例如平均2个月，\n",
    "# 人口 𝐵 享有更长的使用寿命，例如平均12个月。我们事先不知道这种区别。假定我们的实验进行了十个月,\n",
    "# 即在𝑡=10就结束了，我们希望调查整个人口的平均寿命。"
   ]
  },
  {
   "cell_type": "code",
   "execution_count": 2,
   "metadata": {},
   "outputs": [],
   "source": [
    "N = 25\n",
    "\n",
    "CURRENT_TIME = 10"
   ]
  },
  {
   "cell_type": "code",
   "execution_count": 3,
   "metadata": {},
   "outputs": [],
   "source": [
    "#数据随机生成。指数分布\n",
    "actual_lifetimes = np.array([\n",
    "    exponential(12) if (uniform() < 0.5) else exponential(2) for i in range(N)\n",
    "])"
   ]
  },
  {
   "cell_type": "code",
   "execution_count": 4,
   "metadata": {},
   "outputs": [
    {
     "data": {
      "text/plain": [
       "array([ 1.14636301,  5.39294979,  1.20730844,  4.38613911,  1.03442802,\n",
       "        4.33955411,  0.12864845, 11.58591629,  0.57138433,  0.12852386,\n",
       "       27.36852053,  0.84849611,  0.6234064 ,  6.59139457,  4.35605082,\n",
       "       23.20525065,  5.55210448,  1.29640354,  5.65181173, 14.17469019,\n",
       "        0.94028835,  1.37181871, 17.2819816 ,  0.61833632,  0.12007204])"
      ]
     },
     "execution_count": 4,
     "metadata": {},
     "output_type": "execute_result"
    }
   ],
   "source": [
    "actual_lifetimes"
   ]
  },
  {
   "cell_type": "code",
   "execution_count": 5,
   "metadata": {},
   "outputs": [
    {
     "data": {
      "text/plain": [
       "array([ 1.14636301,  5.39294979,  1.20730844,  4.38613911,  1.03442802,\n",
       "        4.33955411,  0.12864845, 10.        ,  0.57138433,  0.12852386,\n",
       "       10.        ,  0.84849611,  0.6234064 ,  6.59139457,  4.35605082,\n",
       "       10.        ,  5.55210448,  1.29640354,  5.65181173, 10.        ,\n",
       "        0.94028835,  1.37181871, 10.        ,  0.61833632,  0.12007204])"
      ]
     },
     "execution_count": 5,
     "metadata": {},
     "output_type": "execute_result"
    }
   ],
   "source": [
    "#数据右侧截断，大于10个月的数据归类成10。\n",
    "observed_lifetimes = np.minimum(actual_lifetimes, CURRENT_TIME)\n",
    "observed_lifetimes"
   ]
  },
  {
   "cell_type": "code",
   "execution_count": 6,
   "metadata": {},
   "outputs": [
    {
     "data": {
      "text/plain": [
       "array([ True,  True,  True,  True,  True,  True,  True, False,  True,\n",
       "        True, False,  True,  True,  True,  True, False,  True,  True,\n",
       "        True, False,  True,  True, False,  True,  True])"
      ]
     },
     "execution_count": 6,
     "metadata": {},
     "output_type": "execute_result"
    }
   ],
   "source": [
    "#数据是否死亡观察数据集\n",
    "death_observed = actual_lifetimes < CURRENT_TIME\n",
    "death_observed"
   ]
  },
  {
   "cell_type": "code",
   "execution_count": 7,
   "metadata": {},
   "outputs": [
    {
     "name": "stdout",
     "output_type": "stream",
     "text": [
      "Observed lifetimes at time 10:\n",
      " [ 1.14636301  5.39294979  1.20730844  4.38613911  1.03442802  4.33955411\n",
      "  0.12864845 10.          0.57138433  0.12852386 10.          0.84849611\n",
      "  0.6234064   6.59139457  4.35605082 10.          5.55210448  1.29640354\n",
      "  5.65181173 10.          0.94028835  1.37181871 10.          0.61833632\n",
      "  0.12007204]\n"
     ]
    },
    {
     "data": {
      "image/png": "[encoded data removed]",
      "text/plain": [
       "<Figure size 432x288 with 1 Axes>"
      ]
     },
     "metadata": {
      "needs_background": "light"
     },
     "output_type": "display_data"
    }
   ],
   "source": [
    "ax = plot_lifetimes(observed_lifetimes, event_observed=death_observed)\n",
    "ax.set_xlim(0, 25)\n",
    "ax.vlines(10, 0, 30, lw=2, linestyles='--')\n",
    "ax.set_xlabel(\"time\")\n",
    "ax.set_title(\"Births and deaths of our population, at $t=10$\")\n",
    "print(\"Observed lifetimes at time %d:\\n\" % (CURRENT_TIME), observed_lifetimes)"
   ]
  },
  {
   "cell_type": "code",
   "execution_count": 8,
   "metadata": {},
   "outputs": [
    {
     "data": {
      "text/plain": [
       "(0.0, 25.0)"
      ]
     },
     "execution_count": 8,
     "metadata": {},
     "output_type": "execute_result"
    },
    {
     "data": {
      "image/png": "[encoded data removed]",
      "text/plain": [
       "<Figure size 432x288 with 1 Axes>"
      ]
     },
     "metadata": {
      "needs_background": "light"
     },
     "output_type": "display_data"
    }
   ],
   "source": [
    "#数据没有过滤，真实的情况，生存分析最初被设计出来的目的就是为了处理存在右侧截断的这种数据的。\n",
    "ax = plot_lifetimes(actual_lifetimes, event_observed=death_observed)\n",
    "ax.vlines(10, 0, 30, lw=2, linestyles='--')\n",
    "ax.set_xlim(0, 25)"
   ]
  },
  {
   "cell_type": "code",
   "execution_count": null,
   "metadata": {},
   "outputs": [],
   "source": [
    "# 如果我们不删除发生右侧截断的样本而直接求平均值，仍然会低估这个群体的平均生存时间，\n",
    "# 要注意的是，我们只能观测到10时刻之前的事情，10时刻之后的我们并不能看到。"
   ]
  }
 ],
 "metadata": {
  "kernelspec": {
   "display_name": "Python 3",
   "language": "python",
   "name": "python3"
  },
  "language_info": {
   "codemirror_mode": {
    "name": "ipython",
    "version": 3
   },
   "file_extension": ".py",
   "mimetype": "text/x-python",
   "name": "python",
   "nbconvert_exporter": "python",
   "pygments_lexer": "ipython3",
   "version": "3.8.5"
  }
 },
 "nbformat": 4,
 "nbformat_minor": 4
}
